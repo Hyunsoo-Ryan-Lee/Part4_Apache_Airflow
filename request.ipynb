{
 "cells": [
  {
   "cell_type": "code",
   "execution_count": null,
   "id": "d10d2ef3",
   "metadata": {},
   "outputs": [
    {
     "ename": "",
     "evalue": "",
     "output_type": "error",
     "traceback": [
      "\u001b[1;31m'Python 3.12.3'(으)로 셀을 실행하려면 ipykernel 패키지가 필요합니다.\n",
      "\u001b[1;31m필요한 패키지를 사용하여 <a href='command:jupyter.createPythonEnvAndSelectController'>Python 환경 만들기</a>\n",
      "\u001b[1;31m또는 다음 명령을 사용하여 'ipykernel'을(를) 설치합니다. '/bin/python3 -m pip install ipykernel -U --user --force-reinstall'"
     ]
    }
   ],
   "source": [
    "!pip3 install requests"
   ]
  },
  {
   "cell_type": "code",
   "execution_count": null,
   "id": "54223b37",
   "metadata": {},
   "outputs": [],
   "source": [
    "\"\"\"\n",
    "REST API\n",
    "\n",
    "GET -> 데이터 요청\n",
    "\n",
    "POST -> 데이터 요청/수정\n",
    "\n",
    "PUT -> 데이터 삽입/수정\n",
    "\n",
    "DELETE -> 데이터 삭제\n",
    "\"\"\"\n",
    "\n",
    "import requests\n",
    "\n",
    "url = \"https://api.openbrewerydb.org/v1/breweries\"\n",
    "\n",
    "\n",
    "response = requests.get(url)\n",
    "\n",
    "response.json()"
   ]
  },
  {
   "cell_type": "code",
   "execution_count": null,
   "id": "2569f642",
   "metadata": {},
   "outputs": [],
   "source": []
  }
 ],
 "metadata": {
  "kernelspec": {
   "display_name": "Python 3",
   "language": "python",
   "name": "python3"
  },
  "language_info": {
   "name": "python",
   "version": "3.12.3"
  }
 },
 "nbformat": 4,
 "nbformat_minor": 5
}
